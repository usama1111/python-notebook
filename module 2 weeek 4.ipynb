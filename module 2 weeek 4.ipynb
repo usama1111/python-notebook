{
 "cells": [
  {
   "cell_type": "code",
   "execution_count": null,
   "metadata": {},
   "outputs": [],
   "source": [
    "import os\n",
    "import PIL\n",
    "from PIL import image\n",
    "rootDir = \"C:\\photos\"\n",
    "fileCount = len([iq for iq in os.scandir(rootDir)])\n",
    "\n",
    "for dirName ,subdirList , fileList in os.walk(rootDir):\n",
    "    print(fileCount)\n",
    "    print('Founddirectory: %s' % dirName)\n",
    "    for fname in fileList:\n",
    "        print('\\t%s' % fname)"
   ]
  },
  {
   "cell_type": "code",
   "execution_count": null,
   "metadata": {},
   "outputs": [],
   "source": [
    "def main():\n",
    "    im = plt.imread(\"C:\\Users\\usama\\Downloads\\numpy images\")\n",
    "    print(type(im))\n",
    "    plti(im)\n",
    "    im = im[400:3800,:2000,:]\n",
    "    plti(im)\n",
    "    print(im.shape)\n",
    "    \n",
    "if __name__ == \"__main__\":\n",
    "    main()"
   ]
  },
  {
   "cell_type": "code",
   "execution_count": null,
   "metadata": {},
   "outputs": [],
   "source": [
    "import numpy as np \n",
    "im = cv.LoadImage(\"photos\")\n",
    "a = numpy.asarray(im)\n"
   ]
  },
  {
   "cell_type": "code",
   "execution_count": null,
   "metadata": {},
   "outputs": [],
   "source": [
    "import cv2\n",
    "im1 = cv2.imread(\"abc.tiff\",mode='RGB')\n",
    "print(type(im1))"
   ]
  },
  {
   "cell_type": "markdown",
   "metadata": {},
   "source": [
    "# PANDAS chapter 5"
   ]
  },
  {
   "cell_type": "code",
   "execution_count": 3,
   "metadata": {},
   "outputs": [
    {
     "name": "stdout",
     "output_type": "stream",
     "text": [
      "0    4\n",
      "1    7\n",
      "2   -5\n",
      "3    3\n",
      "dtype: int64\n"
     ]
    }
   ],
   "source": [
    "#single dimension mein series\n",
    "#multi dimension mein data frame\n",
    "#data ka index ajata ha\n",
    "\n",
    "import pandas as pd\n",
    "obj = pd.Series([4,7,-5,3])\n",
    "print(obj)\n"
   ]
  },
  {
   "cell_type": "code",
   "execution_count": 4,
   "metadata": {},
   "outputs": [
    {
     "name": "stdout",
     "output_type": "stream",
     "text": [
      "jan    100\n",
      "feb    200\n",
      "mar     10\n",
      "apr    400\n",
      "dtype: int64\n",
      "[100 200  10 400]\n",
      "Index(['jan', 'feb', 'mar', 'apr'], dtype='object')\n"
     ]
    }
   ],
   "source": [
    "sales = pd.Series([100,200,10,400],index = ['jan','feb','mar','apr'])\n",
    "print(sales)\n",
    "print(sales.values)\n",
    "print(sales.index)"
   ]
  },
  {
   "cell_type": "code",
   "execution_count": 5,
   "metadata": {},
   "outputs": [
    {
     "name": "stdout",
     "output_type": "stream",
     "text": [
      "jan    100\n",
      "feb    200\n",
      "mar     10\n",
      "apr    400\n",
      "dtype: int64\n"
     ]
    }
   ],
   "source": [
    "sales = pd.Series([100,200,10,400],index = ['jan','feb','mar','apr'])\n",
    "print(sales)"
   ]
  },
  {
   "cell_type": "code",
   "execution_count": 14,
   "metadata": {},
   "outputs": [
    {
     "name": "stdout",
     "output_type": "stream",
     "text": [
      "January\n",
      "mon      20\n",
      "tue      30\n",
      "wed      20\n",
      "thurs    25\n",
      "fri      30\n",
      "sat      40\n",
      "sun       0\n",
      "dtype: int64\n"
     ]
    }
   ],
   "source": [
    "import pandas as pd\n",
    "import calendar as cal\n",
    "print(cal.month_name[1])\n",
    "sw = pd.Series([20,30,20,25,30,40,0],index = ['mon','tue','wed','thurs','fri','sat','sun'])\n",
    "print(sw)"
   ]
  },
  {
   "cell_type": "code",
   "execution_count": 17,
   "metadata": {},
   "outputs": [
    {
     "name": "stdout",
     "output_type": "stream",
     "text": [
      "thurs    25\n",
      "sat      40\n",
      "dtype: int64\n",
      "tue      30\n",
      "thurs    25\n",
      "dtype: int64\n"
     ]
    }
   ],
   "source": [
    "print(sw[ [3,5] ])\n",
    "print(sw[ [ \"tue\",\"thurs\"] ])"
   ]
  },
  {
   "cell_type": "code",
   "execution_count": 19,
   "metadata": {},
   "outputs": [
    {
     "data": {
      "text/plain": [
       "True"
      ]
     },
     "execution_count": 19,
     "metadata": {},
     "output_type": "execute_result"
    }
   ],
   "source": [
    "'tue' in sw"
   ]
  },
  {
   "cell_type": "code",
   "execution_count": 20,
   "metadata": {},
   "outputs": [
    {
     "name": "stdout",
     "output_type": "stream",
     "text": [
      "sindh     3500\n",
      "punjab     300\n",
      "kpk        200\n",
      "dtype: int64\n",
      "Index(['sindh', 'punjab', 'kpk'], dtype='object')\n"
     ]
    }
   ],
   "source": [
    "sdata = {\"sindh\":3500,\"punjab\":300,\"kpk\":200}\n",
    "tax_by_state = pd.Series(sdata)\n",
    "print(tax_by_state)\n",
    "print(tax_by_state.index)"
   ]
  },
  {
   "cell_type": "code",
   "execution_count": 22,
   "metadata": {},
   "outputs": [
    {
     "name": "stdout",
     "output_type": "stream",
     "text": [
      "punjab     300.0\n",
      "sindh     3500.0\n",
      "kpk        200.0\n",
      "gb           NaN\n",
      "dtype: float64\n",
      "punjab    False\n",
      "sindh     False\n",
      "kpk       False\n",
      "gb         True\n",
      "dtype: bool\n"
     ]
    }
   ],
   "source": [
    "sdata = {\"sindh\":3500,\"punjab\":300,\"kpk\":200}\n",
    "tax_by_state = pd.Series(sdata,index = [\"punjab\",\"sindh\",'kpk','gb'])\n",
    "print(tax_by_state)\n",
    "print(pd.isnull(tax_by_state))\n",
    "                "
   ]
  },
  {
   "cell_type": "code",
   "execution_count": 26,
   "metadata": {},
   "outputs": [
    {
     "name": "stdout",
     "output_type": "stream",
     "text": [
      "mon    20000\n",
      "tue       30\n",
      "wed       20\n",
      "thr       25\n",
      "fri       30\n",
      "sat       40\n",
      "sun        0\n",
      "dtype: int64\n",
      "m      20000\n",
      "t         30\n",
      "w         20\n",
      "th        25\n",
      "fri       30\n",
      "sa        40\n",
      "su         0\n",
      "dtype: int64\n"
     ]
    }
   ],
   "source": [
    "sw = pd.Series([20000,30,20,25,30,40,0],\n",
    " index = ['mon','tue','wed','thr','fri','sat','sun'])\n",
    "print(sw)\n",
    "sw.index = ['m','t','w','th','fri','sa','su']\n",
    "print(sw)"
   ]
  },
  {
   "cell_type": "code",
   "execution_count": null,
   "metadata": {},
   "outputs": [],
   "source": []
  }
 ],
 "metadata": {
  "kernelspec": {
   "display_name": "Python 3",
   "language": "python",
   "name": "python3"
  },
  "language_info": {
   "codemirror_mode": {
    "name": "ipython",
    "version": 3
   },
   "file_extension": ".py",
   "mimetype": "text/x-python",
   "name": "python",
   "nbconvert_exporter": "python",
   "pygments_lexer": "ipython3",
   "version": "3.7.3"
  }
 },
 "nbformat": 4,
 "nbformat_minor": 2
}
