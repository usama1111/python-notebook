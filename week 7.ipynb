{
 "cells": [
  {
   "cell_type": "markdown",
   "metadata": {},
   "source": [
    "# for loop"
   ]
  },
  {
   "cell_type": "code",
   "execution_count": null,
   "metadata": {},
   "outputs": [],
   "source": [
    "for num in range(1, 10):\n",
    "    print(num , end = ' ')"
   ]
  },
  {
   "cell_type": "code",
   "execution_count": null,
   "metadata": {},
   "outputs": [],
   "source": [
    "for num in range (40,60):\n",
    "    print(num , end = ' ')"
   ]
  },
  {
   "cell_type": "code",
   "execution_count": null,
   "metadata": {},
   "outputs": [],
   "source": [
    "for num in range(10):\n",
    "    print(num , end = ' ')"
   ]
  },
  {
   "cell_type": "code",
   "execution_count": null,
   "metadata": {},
   "outputs": [],
   "source": [
    "tablenum = int(input('please input table number: '))\n",
    "\n",
    "for num in range(1, 10):\n",
    "     print(f'{tablenum} * {num} = {tablenum * num}')"
   ]
  },
  {
   "cell_type": "code",
   "execution_count": null,
   "metadata": {},
   "outputs": [],
   "source": [
    "for num in range(1,25,2):\n",
    "    print(num , end = ' ')"
   ]
  },
  {
   "cell_type": "code",
   "execution_count": null,
   "metadata": {},
   "outputs": [],
   "source": [
    "students = ['ahmed' , 'haseeb' , 'saqib']\n",
    "print(students)\n",
    "\n",
    "       "
   ]
  },
  {
   "cell_type": "code",
   "execution_count": null,
   "metadata": {},
   "outputs": [],
   "source": [
    "tablenum = int(input('please input table number: '))\n",
    "\n",
    "for num in range(1, 10):\n",
    "    if num % 2 == 0:\n",
    "        continue\n",
    "    else:    \n",
    "     print(f'{tablenum} * {num} = {tablenum * num}')"
   ]
  },
  {
   "cell_type": "markdown",
   "metadata": {},
   "source": [
    " tablenum = int(input('please input table number: '))\n",
    "\n",
    "for num in range(1, 10):\n",
    "    if num % 2 == 0:\n",
    "        break\n",
    "    else:    \n",
    "        print(f'{tablenum} * {num} = {tablenum * num}')\n",
    "    "
   ]
  },
  {
   "cell_type": "code",
   "execution_count": null,
   "metadata": {},
   "outputs": [],
   "source": []
  },
  {
   "cell_type": "code",
   "execution_count": null,
   "metadata": {},
   "outputs": [],
   "source": [
    "best_friend = []\n",
    "Friends = []\n",
    "for num in range(10):\n",
    "    name = input(\"enter your friend name: \")\n",
    "    if name.startswith('a'):\n",
    "        best_friend.append(name)\n",
    "best_friend  \n",
    "    "
   ]
  },
  {
   "cell_type": "code",
   "execution_count": null,
   "metadata": {},
   "outputs": [],
   "source": []
  },
  {
   "cell_type": "code",
   "execution_count": null,
   "metadata": {},
   "outputs": [],
   "source": []
  },
  {
   "cell_type": "markdown",
   "metadata": {},
   "source": [
    "# nested for loop"
   ]
  },
  {
   "cell_type": "code",
   "execution_count": 7,
   "metadata": {},
   "outputs": [
    {
     "name": "stdout",
     "output_type": "stream",
     "text": [
      "1 a\n",
      "1 l\n",
      "1 i\n",
      "2 a\n",
      "2 l\n",
      "2 i\n",
      "3 a\n",
      "3 l\n",
      "3 i\n"
     ]
    }
   ],
   "source": [
    "for a in [1,2,3]:\n",
    "    for b in 'ali':\n",
    "        print(a,b)"
   ]
  },
  {
   "cell_type": "code",
   "execution_count": 10,
   "metadata": {},
   "outputs": [
    {
     "name": "stdout",
     "output_type": "stream",
     "text": [
      "1 a\n",
      "1 l\n",
      "1 i\n",
      "2 a\n",
      "2 l\n",
      "2 i\n",
      "3 a\n",
      "3 l\n",
      "3 i\n"
     ]
    }
   ],
   "source": [
    "for a in [1,2,3]:\n",
    "    for b in 'ali':\n",
    "        print(a,b)"
   ]
  },
  {
   "cell_type": "code",
   "execution_count": null,
   "metadata": {},
   "outputs": [],
   "source": [
    "for a in  [1,2,3,4,5]:\n",
    "    \n",
    "    for b in 'usama':\n",
    "        print(b,a)\n",
    "        "
   ]
  },
  {
   "cell_type": "markdown",
   "metadata": {},
   "source": [
    "# list comprehension\n"
   ]
  },
  {
   "cell_type": "code",
   "execution_count": 14,
   "metadata": {},
   "outputs": [
    {
     "data": {
      "text/plain": [
       "[1, 4, 9, 16, 25, 36, 49, 64, 81]"
      ]
     },
     "execution_count": 14,
     "metadata": {},
     "output_type": "execute_result"
    }
   ],
   "source": [
    "a=[1,2,3,4,5,6,7,8,9]\n",
    "squares=[]\n",
    "for num in a: \n",
    "    squares.append(num**2)\n",
    "squares"
   ]
  },
  {
   "cell_type": "code",
   "execution_count": 18,
   "metadata": {},
   "outputs": [
    {
     "data": {
      "text/plain": [
       "[1, 4, 9, 16, 25, 36, 49]"
      ]
     },
     "execution_count": 18,
     "metadata": {},
     "output_type": "execute_result"
    }
   ],
   "source": [
    "a =[1,2,3,4,5,6,7]\n",
    "squares = []\n",
    "for num in a:\n",
    "    squares.append(num**2)\n",
    "squares"
   ]
  },
  {
   "cell_type": "code",
   "execution_count": null,
   "metadata": {},
   "outputs": [],
   "source": [
    "[ num**2 for num in range(1,10) if num>4]\n",
    "\n"
   ]
  },
  {
   "cell_type": "code",
   "execution_count": null,
   "metadata": {},
   "outputs": [],
   "source": [
    "[ num**2 for num in range(1,10) if num>4]"
   ]
  },
  {
   "cell_type": "code",
   "execution_count": null,
   "metadata": {},
   "outputs": [],
   "source": []
  }
 ],
 "metadata": {
  "kernelspec": {
   "display_name": "Python 3",
   "language": "python",
   "name": "python3"
  },
  "language_info": {
   "codemirror_mode": {
    "name": "ipython",
    "version": 3
   },
   "file_extension": ".py",
   "mimetype": "text/x-python",
   "name": "python",
   "nbconvert_exporter": "python",
   "pygments_lexer": "ipython3",
   "version": "3.7.3"
  }
 },
 "nbformat": 4,
 "nbformat_minor": 2
}
