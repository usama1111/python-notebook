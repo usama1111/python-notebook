{
 "cells": [
  {
   "cell_type": "code",
   "execution_count": 1,
   "metadata": {},
   "outputs": [
    {
     "name": "stdout",
     "output_type": "stream",
     "text": [
      "['You’re' 'going' 'to' 'learn' 'by' 'doingYoull' 'read' 'a' 'chapter,'\n",
      " 'then']\n",
      "<class 'numpy.ndarray'>\n",
      "207\n"
     ]
    }
   ],
   "source": [
    "import numpy as np\n",
    "text= \"You’re going to learn by doingYoull read a chapter, then practice with the exercises. That way, the knowledge gets embedded in your memory so you don forget it. Instant feedback corrects your mistakes like a one-on-one teacher. I’ve done my best to write each chapter so it’s easy for anyone to understand, but it’s the exercises that are going to turn you into a real Python coder. Cognitive research shows that reading alone doesn’t buy you much longterm retention. Even if you read a book a second or even a third time, things won’t improve much, according to research. And forget highlighting or underlining. Marking up a book gives us the illusion that we’re engaging with the material, but studies show that it’s an exercise in self-deception. It doesn’t matter how much yellow you paint on the pages, or how many times you review the highlighted material. By the time you get to Chapter 50, you’ll have forgotten most of what you highlighted in Chapter 1. This all changes if you read less and do more—if you read a short passage and then immediately put it into practice. Washington University researchers say that being asked to retrieve information increases long-term retention by four ******ebook converter DEMO Watermarks*******\"\n",
    "text = np.array(text.split())\n",
    "print(text[:10])\n",
    "print(type(text))\n",
    "print(len(text))\n"
   ]
  },
  {
   "cell_type": "code",
   "execution_count": null,
   "metadata": {},
   "outputs": [],
   "source": [
    "d3 = np.array([[[[1,1],[1,2],[3,3],[4,3]\n",
    "                ,[5,5],[4,3],[0,0],[9,8]\n",
    "                ,[0,1],[0,2],[0,3],[0,4]],[[1,1],[1,2],[3,3],[4,3]\n",
    "                ,[5,5],[4,3],[0,0],[9,8]\n",
    "                ,[0,1],[0,2],[0,3],[0,4]]],[[[1,1],[1,2],[3,3],[4,3]\n",
    "                ,[5,5],[4,3],[0,0],[9,8]\n",
    "                ,[0,1],[0,2],[0,3],[0,4]],[[1,1],[1,2],[3,3],[4,3]\n",
    "                ,[5,5],[4,3],[0,0],[9,8]\n",
    "                ,[0,1],[0,2],[0,3],[0,4]]],[[[1,1],[1,2],[3,3],[4,3]\n",
    "                ,[5,5],[4,3],[0,0],[9,8]\n",
    "                ,[0,1],[0,2],[0,3],[0,4]],[[1,1],[1,2],[3,3],[4,3]\n",
    "                ,[5,5],[4,3],[0,0],[9,8]\n",
    "                ,[0,1],[0,2],[0,3],[0,4]]]])\n",
    "print(d3)\n",
    "print(d3)\n",
    "print(d3.size)\n",
    "print(d3.ndim)\n",
    "print(d3.shape)"
   ]
  },
  {
   "cell_type": "code",
   "execution_count": null,
   "metadata": {},
   "outputs": [],
   "source": []
  },
  {
   "cell_type": "code",
   "execution_count": null,
   "metadata": {},
   "outputs": [],
   "source": [
    "print(d3[0,1])"
   ]
  },
  {
   "cell_type": "code",
   "execution_count": null,
   "metadata": {},
   "outputs": [],
   "source": [
    "d3[:2,:1,:1]"
   ]
  },
  {
   "cell_type": "code",
   "execution_count": null,
   "metadata": {},
   "outputs": [],
   "source": [
    "#vectorization\n",
    "arr = np.array([12,-45,67,89,34,-2,6,-7,8])\n",
    "print(arr * 6) #scaler operation will propagate\n",
    "print(arr[:3] * 6)\n",
    "#in list we cannot do that\n"
   ]
  },
  {
   "cell_type": "code",
   "execution_count": 2,
   "metadata": {},
   "outputs": [
    {
     "name": "stdout",
     "output_type": "stream",
     "text": [
      "[[ 8 10 12]\n",
      " [14 16 18]]\n",
      "d array [4 3 2]\n",
      "(2, 3) (3,)\n",
      "[[12 13 14]\n",
      " [18 19 20]]\n",
      "[[ 8 10 12]\n",
      " [14 16 18]]\n",
      "[[False False False]\n",
      " [False False False]]\n",
      "[]\n",
      "[ 8 10 12 14]\n"
     ]
    }
   ],
   "source": [
    "import numpy as np\n",
    "a = np.array([[1,2,3],[4,5,6]])\n",
    "b = np.array([[7,8,9],[10,11,12]])\n",
    "\n",
    "c = a + b\n",
    "print(c)\n",
    "#broadcasting (row size should be same)\n",
    "d = np.array([4,3,2])\n",
    "print(\"d array\", d)\n",
    "print(c.shape,d.shape)\n",
    "print(c+d)\n",
    "\n",
    "#comparing array will return boolean array\n",
    "#we can use boolean array for filtering data\n",
    "boolean_e = (a == b)\n",
    "c = a + b\n",
    "print(c)\n",
    "print(boolean_e)\n",
    "#filtering data using boolean array\n",
    "cfilter = c [boolean_e]   #true walay ayengay false walay nh\n",
    "print(cfilter)\n",
    "#direct filter instead of boolean array\n",
    "cfilter =  c[c < 15]\n",
    "print(cfilter)\n"
   ]
  },
  {
   "cell_type": "code",
   "execution_count": null,
   "metadata": {},
   "outputs": [],
   "source": [
    "import numpy as np\n",
    "a = np.array([[1,2,3],[4,5,6]])\n",
    "b = np.array([[7,8,9],[10,11,12]])\n",
    "c = a + b\n",
    "print(c)\n",
    "boolean_e = (c < 10)\n",
    "print(boolean_d)\n",
    "cFilter = c[c < 15]\n",
    "print(cFilter)\n"
   ]
  },
  {
   "cell_type": "markdown",
   "metadata": {},
   "source": [
    "# index and fancy indexing"
   ]
  },
  {
   "cell_type": "code",
   "execution_count": 4,
   "metadata": {},
   "outputs": [
    {
     "name": "stdout",
     "output_type": "stream",
     "text": [
      "34\n",
      "[-45  34  -2]\n",
      "[-45  34  -2]\n",
      "\n",
      "\n",
      "slicing\n",
      "[[4 5]]\n"
     ]
    }
   ],
   "source": [
    "import numpy as np\n",
    "arr = np.array([12,-45,67,89,34,-2,-2,6,-7,8])\n",
    "print(arr[4]) #indexing\n",
    "  \n",
    "ind = [1,4,6] #fancy indexing\n",
    "print(arr[ind])\n",
    "\n",
    "print(arr[[1,4,6]])\n",
    "#slicing in 2 dimensions\n",
    "print(\"\\n\\nslicing\")\n",
    "a = np.array([[1,2,3],[4,5,6]])\n",
    "print(a[1:2,0:2])\n"
   ]
  },
  {
   "cell_type": "code",
   "execution_count": null,
   "metadata": {},
   "outputs": [],
   "source": [
    "# element wise operation\n",
    "a = np.array([[1,2,3,-4,-7]])\n",
    "print(np.abs(a))              \n",
    "              "
   ]
  },
  {
   "cell_type": "code",
   "execution_count": null,
   "metadata": {},
   "outputs": [],
   "source": [
    "print(np.vectorize(5))"
   ]
  },
  {
   "cell_type": "code",
   "execution_count": null,
   "metadata": {},
   "outputs": [],
   "source": []
  }
 ],
 "metadata": {
  "kernelspec": {
   "display_name": "Python 3",
   "language": "python",
   "name": "python3"
  },
  "language_info": {
   "codemirror_mode": {
    "name": "ipython",
    "version": 3
   },
   "file_extension": ".py",
   "mimetype": "text/x-python",
   "name": "python",
   "nbconvert_exporter": "python",
   "pygments_lexer": "ipython3",
   "version": "3.7.3"
  }
 },
 "nbformat": 4,
 "nbformat_minor": 2
}
