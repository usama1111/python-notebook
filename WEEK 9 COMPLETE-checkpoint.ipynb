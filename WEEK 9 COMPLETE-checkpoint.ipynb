{
 "cells": [
  {
   "cell_type": "code",
   "execution_count": 2,
   "metadata": {},
   "outputs": [
    {
     "name": "stdout",
     "output_type": "stream",
     "text": [
      "PIAIC\n",
      "hello\n"
     ]
    }
   ],
   "source": [
    "print(\"PIAIC\")\n",
    "\n",
    "def greet_user():\n",
    "    print(\"apna time ayga\")\n",
    "    \n",
    "print(\"hello\")    \n",
    "   "
   ]
  },
  {
   "cell_type": "code",
   "execution_count": 3,
   "metadata": {},
   "outputs": [
    {
     "name": "stdout",
     "output_type": "stream",
     "text": [
      "apna time ayga\n"
     ]
    }
   ],
   "source": [
    "greet_user()"
   ]
  },
  {
   "cell_type": "code",
   "execution_count": 4,
   "metadata": {},
   "outputs": [
    {
     "name": "stdout",
     "output_type": "stream",
     "text": [
      "apna time ayga\n"
     ]
    }
   ],
   "source": [
    "greet_user()"
   ]
  },
  {
   "cell_type": "code",
   "execution_count": 7,
   "metadata": {},
   "outputs": [],
   "source": [
    "def mult(a,b):\n",
    "    c = a*b\n",
    "    print(c)"
   ]
  },
  {
   "cell_type": "code",
   "execution_count": 8,
   "metadata": {},
   "outputs": [
    {
     "name": "stdout",
     "output_type": "stream",
     "text": [
      "8\n"
     ]
    }
   ],
   "source": [
    "mult(2,4)"
   ]
  },
  {
   "cell_type": "code",
   "execution_count": 10,
   "metadata": {},
   "outputs": [
    {
     "name": "stdout",
     "output_type": "stream",
     "text": [
      "25\n"
     ]
    }
   ],
   "source": [
    "mult(5,5)"
   ]
  },
  {
   "cell_type": "code",
   "execution_count": 17,
   "metadata": {},
   "outputs": [],
   "source": [
    "def full_name(f_name , m_name , l_name):\n",
    "    name = f_name + m_name + l_name\n",
    "    print(name)"
   ]
  },
  {
   "cell_type": "code",
   "execution_count": 18,
   "metadata": {},
   "outputs": [
    {
     "name": "stdout",
     "output_type": "stream",
     "text": [
      "MuhammadShahzadAhsan\n"
     ]
    }
   ],
   "source": [
    "full_name(\"Muhammad\" , 'Shahzad' , 'Ahsan')"
   ]
  },
  {
   "cell_type": "code",
   "execution_count": 14,
   "metadata": {},
   "outputs": [],
   "source": [
    "def full_name(f_name , m_name , l_name):\n",
    "    name = f_name +' '+ m_name +' ' + l_name\n",
    "    print(name)"
   ]
  },
  {
   "cell_type": "code",
   "execution_count": 15,
   "metadata": {},
   "outputs": [
    {
     "name": "stdout",
     "output_type": "stream",
     "text": [
      "Muhammad Shahzad Ahsan\n"
     ]
    }
   ],
   "source": [
    "full_name(\"Muhammad\" , 'Shahzad' , 'Ahsan')"
   ]
  },
  {
   "cell_type": "code",
   "execution_count": 21,
   "metadata": {},
   "outputs": [
    {
     "name": "stdout",
     "output_type": "stream",
     "text": [
      "Enter your first name: muhammad\n",
      "Enter your middle name: shahzad\n",
      "Enter your last name: ahsan\n",
      "My name is Muhammad Shahzad Ahsan\n"
     ]
    }
   ],
   "source": [
    "def my_name():\n",
    "    first_name = input(\"Enter your first name: \")\n",
    "    middle_name = input(\"Enter your middle name: \")\n",
    "    last_name = input(\"Enter your last name: \")\n",
    "    my_full_name = first_name + ' ' + middle_name + ' '+last_name\n",
    "    print(\"My name is \" + my_full_name.title())\n",
    "    \n",
    "\n",
    "my_name()    \n",
    "\n"
   ]
  },
  {
   "cell_type": "code",
   "execution_count": 28,
   "metadata": {},
   "outputs": [],
   "source": [
    "def cal(a,b,operator):\n",
    "    if operator == '+':\n",
    "        c = a + b\n",
    "        print(c)\n",
    "    elif operator == '-':\n",
    "        c = a - b\n",
    "        print(c)\n",
    "    elif operator == \"*\":\n",
    "        c = a * b\n",
    "        print(c)\n",
    "    elif operator == '/':\n",
    "        c = a/b\n",
    "        print(c)\n",
    "    else:\n",
    "        print(\"Operator not defined\")     "
   ]
  },
  {
   "cell_type": "code",
   "execution_count": 23,
   "metadata": {},
   "outputs": [
    {
     "name": "stdout",
     "output_type": "stream",
     "text": [
      "3\n"
     ]
    }
   ],
   "source": [
    "cal(5,2,'-')"
   ]
  },
  {
   "cell_type": "code",
   "execution_count": 24,
   "metadata": {},
   "outputs": [
    {
     "name": "stdout",
     "output_type": "stream",
     "text": [
      "11\n"
     ]
    }
   ],
   "source": [
    "cal(9,2,'+')"
   ]
  },
  {
   "cell_type": "code",
   "execution_count": 25,
   "metadata": {},
   "outputs": [
    {
     "name": "stdout",
     "output_type": "stream",
     "text": [
      "1.6666666666666667\n"
     ]
    }
   ],
   "source": [
    "cal(5,3,'/')"
   ]
  },
  {
   "cell_type": "code",
   "execution_count": 26,
   "metadata": {},
   "outputs": [
    {
     "name": "stdout",
     "output_type": "stream",
     "text": [
      "21\n"
     ]
    }
   ],
   "source": [
    "cal(7,3,'*')"
   ]
  },
  {
   "cell_type": "code",
   "execution_count": 29,
   "metadata": {},
   "outputs": [
    {
     "name": "stdout",
     "output_type": "stream",
     "text": [
      "Operator not defined\n"
     ]
    }
   ],
   "source": [
    "cal(3,3,'%')"
   ]
  },
  {
   "cell_type": "markdown",
   "metadata": {},
   "source": [
    "# KEYWORD ARGUMENT"
   ]
  },
  {
   "cell_type": "code",
   "execution_count": 30,
   "metadata": {},
   "outputs": [
    {
     "name": "stdout",
     "output_type": "stream",
     "text": [
      "Operator not defined\n"
     ]
    }
   ],
   "source": [
    "cal(2,'+',5)"
   ]
  },
  {
   "cell_type": "code",
   "execution_count": 31,
   "metadata": {},
   "outputs": [
    {
     "name": "stdout",
     "output_type": "stream",
     "text": [
      "9\n"
     ]
    }
   ],
   "source": [
    "cal(a=4,operator=\"+\",b=5)"
   ]
  },
  {
   "cell_type": "code",
   "execution_count": 32,
   "metadata": {},
   "outputs": [
    {
     "name": "stdout",
     "output_type": "stream",
     "text": [
      "1\n"
     ]
    }
   ],
   "source": [
    "cal(operator=\"-\",a=5,b=4)"
   ]
  },
  {
   "cell_type": "markdown",
   "metadata": {},
   "source": [
    "# DEFAULT PARAMETER"
   ]
  },
  {
   "cell_type": "code",
   "execution_count": 39,
   "metadata": {},
   "outputs": [
    {
     "name": "stdout",
     "output_type": "stream",
     "text": [
      "My name is Shahzad.\n",
      "My age is 21.\n",
      "My gender is male.\n"
     ]
    }
   ],
   "source": [
    "def my_info(name , age = 21, gender = 'male'):\n",
    "    print(f\"My name is {name}.\")\n",
    "    print(f\"My age is {age}.\")\n",
    "    print(f\"My gender is {gender}.\")\n",
    "    \n",
    "my_info('Shahzad')    "
   ]
  },
  {
   "cell_type": "code",
   "execution_count": 44,
   "metadata": {},
   "outputs": [
    {
     "name": "stdout",
     "output_type": "stream",
     "text": [
      "Muhammad Shahzad Ahsan\n"
     ]
    }
   ],
   "source": [
    "def my_name_is(f_name ,l_name , m_name = ' '):\n",
    "    if m_name:\n",
    "        full_name= f_name + ' ' + m_name + ' '+ l_name\n",
    "    else:\n",
    "        full_name = f_name + ' ' + l_name\n",
    "    return full_name\n",
    "\n",
    "a = my_name_is('Muhammad' , 'Ahsan' , 'Shahzad')\n",
    "print(a)"
   ]
  },
  {
   "cell_type": "code",
   "execution_count": 45,
   "metadata": {},
   "outputs": [
    {
     "name": "stdout",
     "output_type": "stream",
     "text": [
      "Shahzad   Ahsan\n"
     ]
    }
   ],
   "source": [
    "b = my_name_is('Shahzad' , 'Ahsan')\n",
    "print(b)"
   ]
  },
  {
   "cell_type": "code",
   "execution_count": 46,
   "metadata": {},
   "outputs": [
    {
     "name": "stdout",
     "output_type": "stream",
     "text": [
      "hello ,Ali\n",
      "hello ,Ahmed\n",
      "hello ,Ahsan\n",
      "hello ,Hamza\n"
     ]
    }
   ],
   "source": [
    "def my_friends(names):\n",
    "    for name in names:\n",
    "        greet = \"hello ,\" + name\n",
    "        print(greet)\n",
    "        \n",
    "user = ['Ali' , 'Ahmed' , 'Ahsan', 'Hamza']\n",
    "my_friends(user)"
   ]
  },
  {
   "cell_type": "code",
   "execution_count": 47,
   "metadata": {},
   "outputs": [
    {
     "name": "stdout",
     "output_type": "stream",
     "text": [
      "First: Shahzad\n",
      "Last_name: Ahsan\n",
      "age: 21\n"
     ]
    }
   ],
   "source": [
    "def human(f_name , l_name , age ):\n",
    "    build_human = {'First:' : f_name , 'Last_name:': l_name , 'age:' : age}\n",
    "    for key , value in build_human.items():\n",
    "        print(key , value)\n",
    "        \n",
    "human('Shahzad' , 'Ahsan' , 21)        "
   ]
  },
  {
   "cell_type": "code",
   "execution_count": 49,
   "metadata": {},
   "outputs": [
    {
     "name": "stdout",
     "output_type": "stream",
     "text": [
      "First: Shahzad\n",
      "('cef', 'aaa', 'bbb', 'ccc')\n",
      "Last_name: Ahsan\n",
      "('cef', 'aaa', 'bbb', 'ccc')\n",
      "age: 21\n",
      "('cef', 'aaa', 'bbb', 'ccc')\n"
     ]
    }
   ],
   "source": [
    "def human(f_name , l_name , age , *others ):\n",
    "    build_human = {'First:' : f_name , 'Last_name:': l_name , 'age:' : age}\n",
    "    for key , value in build_human.items():\n",
    "        print(key , value)\n",
    "        print(others)\n",
    "        \n",
    "        \n",
    "human('Shahzad' , 'Ahsan' , 21 , 'cef' , 'aaa' , 'bbb' , 'ccc')       "
   ]
  },
  {
   "cell_type": "code",
   "execution_count": 59,
   "metadata": {},
   "outputs": [
    {
     "name": "stdout",
     "output_type": "stream",
     "text": [
      "First: Shahzad\n",
      "{'cef': 'aaa', 'bbb': 'ccc'}\n",
      "Last_name: Ahsan\n",
      "{'cef': 'aaa', 'bbb': 'ccc'}\n",
      "age: 21\n",
      "{'cef': 'aaa', 'bbb': 'ccc'}\n"
     ]
    }
   ],
   "source": [
    "def human(f_name , l_name , age , **toopings ):\n",
    "    build_human = {'First:' : f_name , 'Last_name:': l_name , 'age:' : age}\n",
    "    for key , value in build_human.items():\n",
    "        print(key , value)\n",
    "    \n",
    "        print(toopings)\n",
    "        \n",
    "        \n",
    "human('Shahzad' , 'Ahsan' , 21 , cef ='aaa' , bbb ='ccc')  "
   ]
  },
  {
   "cell_type": "code",
   "execution_count": null,
   "metadata": {},
   "outputs": [],
   "source": []
  },
  {
   "cell_type": "code",
   "execution_count": null,
   "metadata": {},
   "outputs": [],
   "source": []
  }
 ],
 "metadata": {
  "kernelspec": {
   "display_name": "Python 3",
   "language": "python",
   "name": "python3"
  },
  "language_info": {
   "codemirror_mode": {
    "name": "ipython",
    "version": 3
   },
   "file_extension": ".py",
   "mimetype": "text/x-python",
   "name": "python",
   "nbconvert_exporter": "python",
   "pygments_lexer": "ipython3",
   "version": "3.7.3"
  }
 },
 "nbformat": 4,
 "nbformat_minor": 2
}
