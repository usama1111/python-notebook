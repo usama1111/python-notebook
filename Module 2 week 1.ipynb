{
 "cells": [
  {
   "cell_type": "code",
   "execution_count": null,
   "metadata": {},
   "outputs": [],
   "source": [
    "import numpy as np\n",
    "my_arr = np.arange(1000000)\n",
    "my_list = list(range(1000000))\n",
    "%time for _ in range(10): my_arr2 = my_arr * 2\n",
    "%time for _ in range(10): my_list2 = [x * 2 for x in my_list] "
   ]
  },
  {
   "cell_type": "code",
   "execution_count": null,
   "metadata": {},
   "outputs": [],
   "source": [
    "import numpy as np\n",
    "nd_array = np.array([1,2,3,4])\n",
    "print(nd_array)\n",
    "print(type(nd_array))\n",
    "\n",
    "list1 = [2,3,4,5,6]\n",
    "nd_a = np.array(list1)\n",
    "\n",
    "print(type(list1))\n",
    "print(nd_a)"
   ]
  },
  {
   "cell_type": "code",
   "execution_count": 1,
   "metadata": {},
   "outputs": [
    {
     "name": "stdout",
     "output_type": "stream",
     "text": [
      "[1 2 3 4]\n",
      "<class 'numpy.ndarray'>\n",
      "<class 'list'>\n",
      "[2 3 4 5 6]\n"
     ]
    }
   ],
   "source": [
    "import numpy as np\n",
    "nd_array = np.array([1,2,3,4])\n",
    "print(nd_array)\n",
    "print(type(nd_array))\n",
    "\n",
    "list1 = [2,3,4,5,6]\n",
    "nd_a = np.array(list1)\n",
    "print(type(list1))\n",
    "print(nd_a)"
   ]
  },
  {
   "cell_type": "code",
   "execution_count": null,
   "metadata": {},
   "outputs": [],
   "source": [
    "zeros = np.zeros([2,2])\n",
    "print(zeros)\n",
    "\n",
    "ones = np.ones([3,3])\n",
    "print(ones)\n",
    "\n",
    "empty = np.empty([3,3,])\n",
    "print(empty)\n",
    "\n",
    "ranges = np.arange(10)\n",
    "print(ranges)"
   ]
  },
  {
   "cell_type": "code",
   "execution_count": null,
   "metadata": {},
   "outputs": [],
   "source": [
    "n_a = np.zeros([1,2,3,4,])\n",
    "print(n_a)           # 4 dimensions hain"
   ]
  },
  {
   "cell_type": "code",
   "execution_count": null,
   "metadata": {},
   "outputs": [],
   "source": [
    "n_a = np.zeros([3,4])  #3 row 4 coloumn is called initialization\n",
    "print(n_a)"
   ]
  },
  {
   "cell_type": "code",
   "execution_count": 2,
   "metadata": {},
   "outputs": [
    {
     "name": "stdout",
     "output_type": "stream",
     "text": [
      "[[0, 0, 0, 0], [0, 0, 0, 0], [0, 0, 0, 0]]\n",
      "[[0. 0. 0. 0.]\n",
      " [0. 0. 0. 0.]\n",
      " [0. 0. 0. 0.]]\n"
     ]
    }
   ],
   "source": [
    "import numpy as np\n",
    "\n",
    "list1=[[0,0,0,0],[0,0,0,0],[0,0,0,0]]   # 3 row 4 coloumn (0 initializer ha )  (2 dimension) (1 array mein sub 3 array)\n",
    "print(list1)\n",
    "na = np.zeros([3,4])\n",
    "print(na)"
   ]
  },
  {
   "cell_type": "markdown",
   "metadata": {},
   "source": [
    "0300 8960038 sir anees"
   ]
  },
  {
   "cell_type": "markdown",
   "metadata": {},
   "source": [
    "0316 2052540 Hamza\n",
    "0313 1115563 Gulraeez"
   ]
  },
  {
   "cell_type": "code",
   "execution_count": null,
   "metadata": {},
   "outputs": [],
   "source": [
    "na = np.zeros([3,4])\n",
    "print(na.shape)\n",
    "print(na.dtype)\n",
    "print(na.ndim)"
   ]
  },
  {
   "cell_type": "code",
   "execution_count": 6,
   "metadata": {},
   "outputs": [
    {
     "name": "stdout",
     "output_type": "stream",
     "text": [
      "[[0. 0. 0. 0.]\n",
      " [0. 0. 0. 0.]\n",
      " [0. 0. 0. 0.]]\n",
      "(3, 4)\n",
      "float64\n",
      "2\n"
     ]
    }
   ],
   "source": [
    "import numpy as np\n",
    "\n",
    "\n",
    "na = np.zeros([3,4])\n",
    "print(na)\n",
    "print(na.shape)\n",
    "print(na.dtype)\n",
    "print(na.ndim)"
   ]
  },
  {
   "cell_type": "code",
   "execution_count": 6,
   "metadata": {},
   "outputs": [
    {
     "name": "stdout",
     "output_type": "stream",
     "text": [
      "myn name i\n",
      "34\n"
     ]
    }
   ],
   "source": [
    "import numpy as np\n",
    "a = \"myn name is usamai am 19 years old\"\n",
    "print(a[:10])\n",
    "print(len(a))"
   ]
  },
  {
   "cell_type": "code",
   "execution_count": null,
   "metadata": {},
   "outputs": [],
   "source": []
  }
 ],
 "metadata": {
  "kernelspec": {
   "display_name": "Python 3",
   "language": "python",
   "name": "python3"
  },
  "language_info": {
   "codemirror_mode": {
    "name": "ipython",
    "version": 3
   },
   "file_extension": ".py",
   "mimetype": "text/x-python",
   "name": "python",
   "nbconvert_exporter": "python",
   "pygments_lexer": "ipython3",
   "version": "3.7.3"
  }
 },
 "nbformat": 4,
 "nbformat_minor": 2
}
